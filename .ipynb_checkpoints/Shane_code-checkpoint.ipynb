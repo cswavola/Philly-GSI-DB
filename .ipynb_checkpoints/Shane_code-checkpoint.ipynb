{
 "cells": [
  {
   "cell_type": "code",
   "execution_count": 2,
   "metadata": {},
   "outputs": [],
   "source": [
    "#setup\n",
    "import json\n",
    "import sqlite3\n",
    "import re"
   ]
  },
  {
   "cell_type": "code",
   "execution_count": 3,
   "metadata": {},
   "outputs": [
    {
     "name": "stdout",
     "output_type": "stream",
     "text": [
      "Enter file name: \n"
     ]
    }
   ],
   "source": [
    "# initiate sql tables\n",
    "conn = sqlite3.connect('gsi.sqlite')\n",
    "cur = conn.cursor()\n",
    "\n",
    "cur.executescript('''\n",
    "DROP TABLE IF EXISTS Projects;\n",
    "DROP TABLE IF EXISTS Retrofits;\n",
    "DROP TABLE IF EXISTS Joint;\n",
    "DROP TABLE IF EXISTS Grants;\n",
    "CREATE TABLE Projects (\n",
    "    id INTEGER NOT NULL PRIMARY KEY AUTOINCREMENT UNIQUE,\n",
    "    pname TEXT UNIQUE,\n",
    "    grant_id INTEGER,\n",
    "    grant_amount INTEGER,\n",
    "    approve_yr INTEGER\n",
    ");\n",
    "CREATE TABLE Retrofits (\n",
    "    id INTEGER NOT NULL PRIMARY KEY AUTOINCREMENT UNIQUE,\n",
    "    rname TEXT UNIQUE\n",
    ");\n",
    "CREATE TABLE Grants (\n",
    "    id INTEGER NOT NULL PRIMARY KEY UNIQUE,\n",
    "    gname TEXT UNIQUE\n",
    ");\n",
    "CREATE TABLE Joint (\n",
    "    number INTEGER,\n",
    "    project_id INTEGER,\n",
    "    retro_id INTEGER,\n",
    "    UNIQUE (project_id, retro_id)\n",
    ")''')\n",
    "\n",
    "grants = [(0,'SMIP'),(1,'GARP')]\n",
    "cur.executemany('INSERT INTO Grants (id, gname) VALUES (?, ?)', grants)\n",
    "\n",
    "fname = input('Enter file name: ')\n",
    "if len(fname) < 1 : fname = 'GSI_Private_Projects_Retrofit.geojson'\n",
    "\n",
    "with open(fname) as f :\n",
    "    dict_data = json.loads(f.read())\n",
    "\n",
    "\n",
    "for f in dict_data['features'] :\n",
    "     project = f['properties']\n",
    "\n",
    "     #if project['NAME'] != project['PROJECTNAME'] : print(project['NAME'], project['PROJECTNAME'])\n",
    "     if project['APPROVALDATE'] is None : continue\n",
    "\n",
    "     #handle missing name fields\n",
    "     if project['NAME'] is not None : pname = project['NAME']\n",
    "     elif project['PROJECTNAME'] is not None : pname = project['PROJECTNAME']\n",
    "     else :\n",
    "         print('Error in Record: ', project['TRACKINGNUMBER'])\n",
    "         continue\n",
    "     grant_amount = project['GRANTAMOUNT']\n",
    "     #parse approval year\n",
    "     approve_date = project['APPROVALDATE']\n",
    "     approve_yr = int(approve_date[:4])\n",
    "     #get retrofit names from json keys\n",
    "     kl = list(project.keys())\n",
    "     rname = kl[11:]\n",
    "     # get grant values\n",
    "     if project['SMIP'] == -1 : grant_id = 0\n",
    "     elif project['GARP'] == -1 : grant_id = 1\n",
    "     else : grant_id = None\n",
    "\n",
    "     for i in range(len(rname)) :\n",
    "          rname[i] = (rname[i],) # make rname into a list of tuples for executemany argument\n",
    "\n",
    "     cur.execute('''INSERT OR IGNORE INTO Projects (pname, grant_id, grant_amount, approve_yr)\n",
    "     VALUES (?, ?, ?, ?)''', (pname, grant_id, grant_amount, approve_yr))\n",
    "     cur.execute('SELECT id FROM Projects WHERE pname = ?', (pname,))\n",
    "     project_id = cur.fetchone()[0]\n",
    "\n",
    "     stmt = 'INSERT OR IGNORE INTO Retrofits (rname) VALUES (?)'\n",
    "     cur.executemany(stmt, rname)\n",
    "\n",
    "     rstr = kl[11:] #get retrofit names as list of strings to loop through\n",
    "     for i in range(len(rstr)) :\n",
    "         if project[rstr[i]] > 0 :\n",
    "             number = project[rstr[i]]\n",
    "             cur.execute('SELECT id FROM Retrofits WHERE rname = ?', rname[i])\n",
    "             retro_id = cur.fetchone()[0]\n",
    "\n",
    "             #create many-to-many join table\n",
    "             cur.execute('''INSERT OR REPLACE INTO Joint (number, project_id, retro_id)\n",
    "             VALUES (?, ?, ?)''', (number, project_id, retro_id))\n",
    "         else : continue\n",
    "\n",
    "conn.commit()\n"
   ]
  },
  {
   "cell_type": "code",
   "execution_count": null,
   "metadata": {},
   "outputs": [],
   "source": []
  }
 ],
 "metadata": {
  "kernelspec": {
   "display_name": "Python 3",
   "language": "python",
   "name": "python3"
  },
  "language_info": {
   "codemirror_mode": {
    "name": "ipython",
    "version": 3
   },
   "file_extension": ".py",
   "mimetype": "text/x-python",
   "name": "python",
   "nbconvert_exporter": "python",
   "pygments_lexer": "ipython3",
   "version": "3.7.6"
  }
 },
 "nbformat": 4,
 "nbformat_minor": 4
}
