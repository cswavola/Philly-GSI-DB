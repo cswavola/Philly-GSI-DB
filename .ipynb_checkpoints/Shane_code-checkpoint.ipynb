{
 "cells": [
  {
   "cell_type": "code",
   "execution_count": 2,
   "metadata": {},
   "outputs": [],
   "source": [
    "#setup\n",
    "import json\n",
    "import sqlite3\n",
    "import re"
   ]
  },
  {
   "cell_type": "code",
   "execution_count": 3,
   "metadata": {},
   "outputs": [
    {
     "name": "stdout",
     "output_type": "stream",
     "text": [
      "Enter file name: \n"
     ]
    }
   ],
   "source": [
    "# initiate sql tables\n",
    "conn = sqlite3.connect('gsi.sqlite')\n",
    "cur = conn.cursor()\n",
    "\n",
    "cur.executescript('''\n",
    "DROP TABLE IF EXISTS Projects;\n",
    "DROP TABLE IF EXISTS Retrofits;\n",
    "DROP TABLE IF EXISTS Joint;\n",
    "DROP TABLE IF EXISTS Grants;\n",
    "CREATE TABLE Projects (\n",
    "    id INTEGER NOT NULL PRIMARY KEY AUTOINCREMENT UNIQUE,\n",
    "    pname TEXT UNIQUE,\n",
    "    grant_id INTEGER,\n",
    "    grant_amount INTEGER,\n",
    "    approve_yr INTEGER\n",
    ");\n",
    "CREATE TABLE Retrofits (\n",
    "    id INTEGER NOT NULL PRIMARY KEY AUTOINCREMENT UNIQUE,\n",
    "    rname TEXT UNIQUE\n",
    ");\n",
    "CREATE TABLE Grants (\n",
    "    id INTEGER NOT NULL PRIMARY KEY UNIQUE,\n",
    "    gname TEXT UNIQUE\n",
    ");\n",
    "CREATE TABLE Joint (\n",
    "    number INTEGER,\n",
    "    project_id INTEGER,\n",
    "    retro_id INTEGER,\n",
    "    UNIQUE (project_id, retro_id)\n",
    ")''')\n",
    "\n",
    "grants = [(0,'SMIP'),(1,'GARP')]\n",
    "cur.executemany('INSERT INTO Grants (id, gname) VALUES (?, ?)', grants)\n",
    "\n",
    "fname = input('Enter file name: ')\n",
    "if len(fname) < 1 : fname = 'GSI_Private_Projects_Retrofit.geojson'\n",
    "\n",
    "with open(fname) as f :\n",
    "    dict_data = json.loads(f.read())\n",
    "\n",
    "\n",
    "for f in dict_data['features'] :\n",
    "     project = f['properties']\n",
    "\n",
    "     #if project['NAME'] != project['PROJECTNAME'] : print(project['NAME'], project['PROJECTNAME'])\n",
    "     if project['APPROVALDATE'] is None : continue\n",
    "\n",
    "     #handle missing name fields\n",
    "     if project['NAME'] is not None : pname = project['NAME']\n",
    "     elif project['PROJECTNAME'] is not None : pname = project['PROJECTNAME']\n",
    "     else :\n",
    "         print('Error in Record: ', project['TRACKINGNUMBER'])\n",
    "         continue\n",
    "     grant_amount = project['GRANTAMOUNT']\n",
    "     #parse approval year\n",
    "     approve_date = project['APPROVALDATE']\n",
    "     approve_yr = int(approve_date[:4])\n",
    "     #get retrofit names from json keys\n",
    "     kl = list(project.keys())\n",
    "     rname = kl[11:]\n",
    "     # get grant values\n",
    "     if project['SMIP'] == -1 : grant_id = 0\n",
    "     elif project['GARP'] == -1 : grant_id = 1\n",
    "     else : grant_id = None\n",
    "\n",
    "     for i in range(len(rname)) :\n",
    "          rname[i] = (rname[i],) # make rname into a list of tuples for executemany argument\n",
    "\n",
    "     cur.execute('''INSERT OR IGNORE INTO Projects (pname, grant_id, grant_amount, approve_yr)\n",
    "     VALUES (?, ?, ?, ?)''', (pname, grant_id, grant_amount, approve_yr))\n",
    "     cur.execute('SELECT id FROM Projects WHERE pname = ?', (pname,))\n",
    "     project_id = cur.fetchone()[0]\n",
    "\n",
    "     stmt = 'INSERT OR IGNORE INTO Retrofits (rname) VALUES (?)'\n",
    "     cur.executemany(stmt, rname)\n",
    "\n",
    "     rstr = kl[11:] #get retrofit names as list of strings to loop through\n",
    "     for i in range(len(rstr)) :\n",
    "         if project[rstr[i]] > 0 :\n",
    "             number = project[rstr[i]]\n",
    "             cur.execute('SELECT id FROM Retrofits WHERE rname = ?', rname[i])\n",
    "             retro_id = cur.fetchone()[0]\n",
    "\n",
    "             #create many-to-many join table\n",
    "             cur.execute('''INSERT OR REPLACE INTO Joint (number, project_id, retro_id)\n",
    "             VALUES (?, ?, ?)''', (number, project_id, retro_id))\n",
    "         else : continue\n",
    "\n",
    "conn.commit()\n"
   ]
  },
  {
   "cell_type": "code",
   "execution_count": 7,
   "metadata": {},
   "outputs": [
    {
     "name": "stdout",
     "output_type": "stream",
     "text": [
      "For GARP grant: 39753820 dollars allocated to 57 projects\n",
      "For SMIP grant: 28774888 dollars allocated to 74 projects\n"
     ]
    }
   ],
   "source": [
    "sqlstmt = '''SELECT Grants.gname, SUM(Projects.grant_amount), COUNT(Projects.pname)\n",
    "FROM Grants JOIN Projects ON Grants.id = Projects.grant_id\n",
    "GROUP BY Grants.gname'''\n",
    "\n",
    "for row in cur.execute(sqlstmt) :\n",
    "    print('For %s grant: %d dollars allocated to %d projects' % (row[0], row[1], row[2]))"
   ]
  },
  {
   "cell_type": "code",
   "execution_count": 8,
   "metadata": {},
   "outputs": [
    {
     "name": "stdout",
     "output_type": "stream",
     "text": [
      "For GARP grant: 39753820 dollars allocated to 57 projects\n",
      "For SMIP grant: 28774888 dollars allocated to 74 projects\n"
     ]
    }
   ],
   "source": [
    "#Same same but different: this is the notation I tend to run into (tables as A,B)\n",
    "# in an interview they're likely to use it as it tests familiarity. ugh.\n",
    "sqlstmt = '''SELECT A.gname, SUM(B.grant_amount), COUNT(B.pname)\n",
    "FROM Grants A JOIN Projects B ON A.id = B.grant_id\n",
    "GROUP BY A.gname'''\n",
    "\n",
    "for row in cur.execute(sqlstmt) :\n",
    "    print('For %s grant: %d dollars allocated to %d projects' % (row[0], row[1], row[2]))"
   ]
  },
  {
   "cell_type": "code",
   "execution_count": 14,
   "metadata": {},
   "outputs": [],
   "source": [
    "import pandas as pd"
   ]
  },
  {
   "cell_type": "code",
   "execution_count": 16,
   "metadata": {},
   "outputs": [
    {
     "data": {
      "text/html": [
       "<div>\n",
       "<style scoped>\n",
       "    .dataframe tbody tr th:only-of-type {\n",
       "        vertical-align: middle;\n",
       "    }\n",
       "\n",
       "    .dataframe tbody tr th {\n",
       "        vertical-align: top;\n",
       "    }\n",
       "\n",
       "    .dataframe thead th {\n",
       "        text-align: right;\n",
       "    }\n",
       "</style>\n",
       "<table border=\"1\" class=\"dataframe\">\n",
       "  <thead>\n",
       "    <tr style=\"text-align: right;\">\n",
       "      <th></th>\n",
       "      <th>id</th>\n",
       "      <th>gname</th>\n",
       "    </tr>\n",
       "  </thead>\n",
       "  <tbody>\n",
       "    <tr>\n",
       "      <th>0</th>\n",
       "      <td>0</td>\n",
       "      <td>SMIP</td>\n",
       "    </tr>\n",
       "    <tr>\n",
       "      <th>1</th>\n",
       "      <td>1</td>\n",
       "      <td>GARP</td>\n",
       "    </tr>\n",
       "  </tbody>\n",
       "</table>\n",
       "</div>"
      ],
      "text/plain": [
       "   id gname\n",
       "0   0  SMIP\n",
       "1   1  GARP"
      ]
     },
     "execution_count": 16,
     "metadata": {},
     "output_type": "execute_result"
    }
   ],
   "source": [
    "#I want to SEE the data, et an idea of structure, etc\n",
    "query = 'SELECT * FROM GRANTS LIMIT 10'\n",
    "df = pd.read_sql_query(query, conn)\n",
    "df.head(10)\n",
    "# so only 2 rows, 2 cols"
   ]
  },
  {
   "cell_type": "code",
   "execution_count": 41,
   "metadata": {},
   "outputs": [
    {
     "name": "stdout",
     "output_type": "stream",
     "text": [
      "   id                                        pname  grant_id  grant_amount  \\\n",
      "0   1                             Weavers Way Coop       NaN           NaN   \n",
      "1   2                               CATCH Retrofit       NaN           NaN   \n",
      "2   3                     Pennypack Woods Retrofit       NaN           NaN   \n",
      "3   4                     Community Legal Services       NaN           NaN   \n",
      "4   5                  TVPV Stormwater Credit App.       NaN           NaN   \n",
      "5   6                           2800 Black Lake Pl       NaN           NaN   \n",
      "6   7  1518 Cambridge Street to 1521 Poplar Street       NaN           NaN   \n",
      "7   8       Lafayette Redeemer Stormwater Retrofit       NaN           NaN   \n",
      "8   9                       2150 E Westmoreland St       NaN           NaN   \n",
      "9  10           St James Episcopal Church Retrofit       NaN           NaN   \n",
      "\n",
      "   approve_yr  \n",
      "0        2011  \n",
      "1        2010  \n",
      "2        2010  \n",
      "3        2013  \n",
      "4        2011  \n",
      "5        2011  \n",
      "6        2015  \n",
      "7        2011  \n",
      "8        2012  \n",
      "9        2011  \n",
      "               id    grant_id  grant_amount   approve_yr\n",
      "count  155.000000  131.000000  1.180000e+02   155.000000\n",
      "mean    79.051613    0.435115  5.807518e+05  2015.806452\n",
      "std     45.472525    0.497675  7.484805e+05     2.279487\n",
      "min      1.000000    0.000000  1.565900e+04  2010.000000\n",
      "25%     40.500000    0.000000  1.168845e+05  2015.000000\n",
      "50%     79.000000    0.000000  3.537940e+05  2016.000000\n",
      "75%    117.500000    1.000000  7.693705e+05  2018.000000\n",
      "max    158.000000    1.000000  5.677050e+06  2020.000000\n"
     ]
    },
    {
     "data": {
      "text/plain": [
       "155"
      ]
     },
     "execution_count": 41,
     "metadata": {},
     "output_type": "execute_result"
    }
   ],
   "source": [
    "#I want to SEE the data, et an idea of structure, etc\n",
    "query = 'SELECT * FROM PROJECTS'\n",
    "df = pd.read_sql_query(query, conn)\n",
    "print(df.head(10))\n",
    "# many rols, cols\n",
    "print(df.describe())\n",
    "len(df) # 155 rows"
   ]
  },
  {
   "cell_type": "code",
   "execution_count": 46,
   "metadata": {},
   "outputs": [
    {
     "data": {
      "text/html": [
       "<div>\n",
       "<style scoped>\n",
       "    .dataframe tbody tr th:only-of-type {\n",
       "        vertical-align: middle;\n",
       "    }\n",
       "\n",
       "    .dataframe tbody tr th {\n",
       "        vertical-align: top;\n",
       "    }\n",
       "\n",
       "    .dataframe thead th {\n",
       "        text-align: right;\n",
       "    }\n",
       "</style>\n",
       "<table border=\"1\" class=\"dataframe\">\n",
       "  <thead>\n",
       "    <tr style=\"text-align: right;\">\n",
       "      <th></th>\n",
       "      <th>id</th>\n",
       "      <th>pname</th>\n",
       "      <th>grant_id</th>\n",
       "      <th>grant_amount</th>\n",
       "      <th>approve_yr</th>\n",
       "    </tr>\n",
       "  </thead>\n",
       "  <tbody>\n",
       "    <tr>\n",
       "      <th>13</th>\n",
       "      <td>14</td>\n",
       "      <td>Pennypack Woods Homeowners Association Stormwater</td>\n",
       "      <td>0.0</td>\n",
       "      <td>135500.0</td>\n",
       "      <td>2013</td>\n",
       "    </tr>\n",
       "    <tr>\n",
       "      <th>16</th>\n",
       "      <td>17</td>\n",
       "      <td>13410- 13420 Damar Drive</td>\n",
       "      <td>0.0</td>\n",
       "      <td>255000.0</td>\n",
       "      <td>2014</td>\n",
       "    </tr>\n",
       "    <tr>\n",
       "      <th>17</th>\n",
       "      <td>18</td>\n",
       "      <td>GSFS, Green Street Friends School Retrofit</td>\n",
       "      <td>0.0</td>\n",
       "      <td>91080.0</td>\n",
       "      <td>2013</td>\n",
       "    </tr>\n",
       "    <tr>\n",
       "      <th>18</th>\n",
       "      <td>19</td>\n",
       "      <td>1148 Wharton Street</td>\n",
       "      <td>0.0</td>\n",
       "      <td>79500.0</td>\n",
       "      <td>2014</td>\n",
       "    </tr>\n",
       "    <tr>\n",
       "      <th>19</th>\n",
       "      <td>20</td>\n",
       "      <td>Methodist Home Rain Gardens</td>\n",
       "      <td>0.0</td>\n",
       "      <td>70000.0</td>\n",
       "      <td>2013</td>\n",
       "    </tr>\n",
       "    <tr>\n",
       "      <th>...</th>\n",
       "      <td>...</td>\n",
       "      <td>...</td>\n",
       "      <td>...</td>\n",
       "      <td>...</td>\n",
       "      <td>...</td>\n",
       "    </tr>\n",
       "    <tr>\n",
       "      <th>147</th>\n",
       "      <td>150</td>\n",
       "      <td>PEER GARP/OVERBROOK PRESBYTERIAN CHURCH STORMW...</td>\n",
       "      <td>1.0</td>\n",
       "      <td>475525.0</td>\n",
       "      <td>2019</td>\n",
       "    </tr>\n",
       "    <tr>\n",
       "      <th>148</th>\n",
       "      <td>152</td>\n",
       "      <td>2001 W Lehigh Ave - Site 240</td>\n",
       "      <td>1.0</td>\n",
       "      <td>1123200.0</td>\n",
       "      <td>2019</td>\n",
       "    </tr>\n",
       "    <tr>\n",
       "      <th>149</th>\n",
       "      <td>153</td>\n",
       "      <td>2230 Castor Avenue</td>\n",
       "      <td>1.0</td>\n",
       "      <td>1555000.0</td>\n",
       "      <td>2019</td>\n",
       "    </tr>\n",
       "    <tr>\n",
       "      <th>152</th>\n",
       "      <td>156</td>\n",
       "      <td>Eastern State Penitentiary - Phase I</td>\n",
       "      <td>0.0</td>\n",
       "      <td>117750.0</td>\n",
       "      <td>2019</td>\n",
       "    </tr>\n",
       "    <tr>\n",
       "      <th>154</th>\n",
       "      <td>158</td>\n",
       "      <td>First Presbyterian Church in Germantown</td>\n",
       "      <td>0.0</td>\n",
       "      <td>240000.0</td>\n",
       "      <td>2020</td>\n",
       "    </tr>\n",
       "  </tbody>\n",
       "</table>\n",
       "<p>118 rows × 5 columns</p>\n",
       "</div>"
      ],
      "text/plain": [
       "      id                                              pname  grant_id  \\\n",
       "13    14  Pennypack Woods Homeowners Association Stormwater       0.0   \n",
       "16    17                           13410- 13420 Damar Drive       0.0   \n",
       "17    18         GSFS, Green Street Friends School Retrofit       0.0   \n",
       "18    19                                1148 Wharton Street       0.0   \n",
       "19    20                        Methodist Home Rain Gardens       0.0   \n",
       "..   ...                                                ...       ...   \n",
       "147  150  PEER GARP/OVERBROOK PRESBYTERIAN CHURCH STORMW...       1.0   \n",
       "148  152                       2001 W Lehigh Ave - Site 240       1.0   \n",
       "149  153                                 2230 Castor Avenue       1.0   \n",
       "152  156               Eastern State Penitentiary - Phase I       0.0   \n",
       "154  158            First Presbyterian Church in Germantown       0.0   \n",
       "\n",
       "     grant_amount  approve_yr  \n",
       "13       135500.0        2013  \n",
       "16       255000.0        2014  \n",
       "17        91080.0        2013  \n",
       "18        79500.0        2014  \n",
       "19        70000.0        2013  \n",
       "..            ...         ...  \n",
       "147      475525.0        2019  \n",
       "148     1123200.0        2019  \n",
       "149     1555000.0        2019  \n",
       "152      117750.0        2019  \n",
       "154      240000.0        2020  \n",
       "\n",
       "[118 rows x 5 columns]"
      ]
     },
     "execution_count": 46,
     "metadata": {},
     "output_type": "execute_result"
    }
   ],
   "source": [
    "#I want to look at grants with amounts in them\n",
    "df.dropna(thresh = 2) # drop rows with 2 NA values (id, amount)\n",
    "# that didn't pick up 'NaN's...\n",
    "# this method is better anyway, allows me to specify the column\n",
    "df[df['grant_amount']>0]"
   ]
  },
  {
   "cell_type": "markdown",
   "metadata": {},
   "source": [
    "# How much money was given out by each grant program?"
   ]
  },
  {
   "cell_type": "code",
   "execution_count": 47,
   "metadata": {},
   "outputs": [
    {
     "name": "stdout",
     "output_type": "stream",
     "text": [
      "For GARP grant: 39753820 dollars allocated to 57 projects\n",
      "For SMIP grant: 28774888 dollars allocated to 74 projects\n"
     ]
    }
   ],
   "source": [
    "#How much money was given out by each grant program?\n",
    "sqlstmt = '''SELECT Grants.gname, SUM(Projects.grant_amount), COUNT(Projects.pname)\n",
    "FROM Grants JOIN Projects ON Grants.id = Projects.grant_id\n",
    "GROUP BY Grants.gname'''\n",
    "\n",
    "for row in cur.execute(sqlstmt) :\n",
    "    print('For %s grant: %d dollars allocated to %d projects' % (row[0], row[1], row[2]))\n"
   ]
  },
  {
   "cell_type": "code",
   "execution_count": null,
   "metadata": {},
   "outputs": [],
   "source": [
    "# I want to replace grant_id (or add new column) with program name"
   ]
  }
 ],
 "metadata": {
  "kernelspec": {
   "display_name": "Python 3",
   "language": "python",
   "name": "python3"
  },
  "language_info": {
   "codemirror_mode": {
    "name": "ipython",
    "version": 3
   },
   "file_extension": ".py",
   "mimetype": "text/x-python",
   "name": "python",
   "nbconvert_exporter": "python",
   "pygments_lexer": "ipython3",
   "version": "3.7.6"
  }
 },
 "nbformat": 4,
 "nbformat_minor": 4
}
